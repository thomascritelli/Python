{
 "cells": [
  {
   "cell_type": "markdown",
   "metadata": {},
   "source": [
    "INTRODUZIONE ALLE SOCKET IN PYTHON"
   ]
  },
  {
   "cell_type": "markdown",
   "metadata": {},
   "source": [
    "le socket sono uno strumento importante per la comunicazione tra processi su una rete, sia su internet che su una rete locale. in Python, le socket possono essere utilizzate sia per la comunicazione tramite il protocollo UDP (user datagram protocol), che è un protocollo di trasmissione di dati senza connessione, che TCP (trasmission control protocol) con connessione. Per creare una socket in Python, utilizziamo il metodo socket() del modulo socket. il metodo accetta due parametri: la famiglia di indirizzi (ad esempio socket.AF_INET per IPv4) e il tipo di socket (ad esempio, socket.SOCK_STREAM per TCP o socket.SOCK_DGRAM per UDP). "
   ]
  },
  {
   "cell_type": "markdown",
   "metadata": {},
   "source": [
    "SOCKET UDP"
   ]
  },
  {
   "cell_type": "markdown",
   "metadata": {},
   "source": [
    "Le socket UDP sono utilizzate per inviare e ricevere pacchetti di dati tra due dispositivi senza l'instaurazione di una connessione prima della trasmissione dei dati. Questo rende le socket UDP molto utili per la trasmissione di dati in tempo reale come audio e video. Inoltre, il datto che non ci sia una connessione pre-stabilita significa che le socket UDP sono adatte per la trasmisisone di dati a più destinazioni contemporaneamente"
   ]
  },
  {
   "cell_type": "markdown",
   "metadata": {},
   "source": [
    "in Python, il modulo socket fornisce un'interfaccia per creare e gestire le socket UDP. le primitive principali che possono essere utilizzate con le socket UDP includono:"
   ]
  },
  {
   "cell_type": "markdown",
   "metadata": {},
   "source": [
    "*1. socket():* questa funzione viene utilizzata per creare una nuova socket UDP. restituisce un oggetto socket che può essere utilizzato per inviare e ricevere dati"
   ]
  },
  {
   "cell_type": "code",
   "execution_count": null,
   "metadata": {
    "vscode": {
     "languageId": "plaintext"
    }
   },
   "outputs": [],
   "source": [
    "import socket\n",
    "#creazione della socket UDP\n",
    "sock = socket.socket(socket.AF_INET, socket.SOCK_DGRAM)"
   ]
  },
  {
   "cell_type": "markdown",
   "metadata": {},
   "source": [
    "*1. bind():* questa funzione viene utilizzata per assocciare una socket a un indirizzo e una porta specifici del server. una volta associata, la socket sarà in grado di ricevere i dati inviati a quell'indirizzo e porta specifici. il metodo accetta un parametro, una tupla contenente l'indirizzo IP e il numero di porta"
   ]
  },
  {
   "cell_type": "code",
   "execution_count": null,
   "metadata": {
    "vscode": {
     "languageId": "plaintext"
    }
   },
   "outputs": [],
   "source": [
    "#associazione della socket all'indirizzo e alla porta del server\n",
    "server_address=('127.0.0.1', 10000)\n",
    "sock.bind(server_address)"
   ]
  },
  {
   "cell_type": "markdown",
   "metadata": {},
   "source": [
    "*1. sendto():* questa funzione viene utilizzata per inviare un messaggio a un indirizzo e una porta specifici. in questo socket UDP, il messaggio inviato viene suddiviso in pacchetti e inviato tramite la rete. Non viene effettuato alcun controllo sulla ricezione del messaggio."
   ]
  },
  {
   "cell_type": "code",
   "execution_count": null,
   "metadata": {
    "vscode": {
     "languageId": "plaintext"
    }
   },
   "outputs": [],
   "source": [
    "#invio di un messaggio alla socket del client\n",
    "message = b'Hello, client!'\n",
    "client_address=('localhost', 10001)\n",
    "sock.sendto(message, client_address)"
   ]
  },
  {
   "cell_type": "markdown",
   "metadata": {},
   "source": [
    "*4. recvfrom():* questa funzione viene utilizzata per ricevere un messaggio inviato a una socket specifica. Essa restituisce il messaggio ricevuto e l'indirizzo e la porta del mittente del messaggio"
   ]
  },
  {
   "cell_type": "code",
   "execution_count": null,
   "metadata": {
    "vscode": {
     "languageId": "plaintext"
    }
   },
   "outputs": [],
   "source": [
    "#ricezione di un messaggio dalla socket del client\n",
    "data, address = sock.revfrom(4096)"
   ]
  },
  {
   "cell_type": "markdown",
   "metadata": {},
   "source": [
    "esempio completo di un server e un client che comunicano tramite socket UDP in python potrebbe essere il seguente:"
   ]
  },
  {
   "cell_type": "code",
   "execution_count": null,
   "metadata": {
    "vscode": {
     "languageId": "plaintext"
    }
   },
   "outputs": [],
   "source": [
    "import socket\n",
    "SERVER_IP = \"127.0.0.1\"\n",
    "SERVER_PORT = 5005\n",
    "BUFFER_SIZE = 1024\n",
    "\n",
    "#creazione del socket\n",
    "sock = socket.socket(socket.AF_INET, socket.SOCK_DGRAM)\n",
    "sock.bind((SERVER_IP, SERVER_PORT))\n",
    "\n",
    "print(\"server in attesa di messaggi..\")\n",
    "while True:\n",
    "    #ricezione dei dati dal client\n",
    "    data, addr = sock.recvfrom(BUFFER_SIZE)\n",
    "    print(f\"messaggio ricevuto dal client {addr}: {data.decode()}\")\n",
    "\n",
    "    #invio di una risposta al client\n",
    "    reply = \"pong\"\n",
    "\n",
    "    sock.sendto(reply.encode(), addr)"
   ]
  },
  {
   "cell_type": "code",
   "execution_count": null,
   "metadata": {
    "vscode": {
     "languageId": "plaintext"
    }
   },
   "outputs": [],
   "source": [
    "import socket\n",
    "SERVER_IP = \"127.0.0.1\"\n",
    "SERVER_PORT = 5005\n",
    "BUFFER_SIZE = 1024\n",
    "NUM_MESSAGES = 5\n",
    "\n",
    "#creazione del socket\n",
    "sock = socket.socket(socket.AF_INET, socket.SOCK_DGRAM)\n",
    "\n",
    "for i in range(NUM_MESSAGES):\n",
    "    #invio del messaggio al server\n",
    "    reply = \"ping\"\n",
    "    sock.sendto(message.encode(), (SERVER_IP, SERVER_PORT))\n",
    "    print(f\"messaggio inviato al server: {message}\")\n",
    "\n",
    "    #ricezione della risposta dal server\n",
    "    data, addr = sock.recvfrom(BUFFER_SIZE)\n",
    "    print(f\"messaggio ricevuto dal server {addr}: {data.decode()}\")"
   ]
  }
 ],
 "metadata": {
  "language_info": {
   "name": "python"
  }
 },
 "nbformat": 4,
 "nbformat_minor": 2
}
