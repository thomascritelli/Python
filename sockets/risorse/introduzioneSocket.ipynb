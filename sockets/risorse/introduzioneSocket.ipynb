{
 "cells": [
  {
   "cell_type": "markdown",
   "metadata": {},
   "source": [
    "INTRODUZIONE ALLE SOCKET TPC"
   ]
  },
  {
   "cell_type": "markdown",
   "metadata": {},
   "source": [
    "Le socket TCP sono uno dei modi più diffusi per la comunicazione tra processi su una rete. Una socket è un oggetto software che rappresenta un endpoint di un canale di comunicazioe bidirezionale tra due processi. In particolare, una socket TCP è una socket orientata alla connessione, cioè garantisce una connessione affidabile e stabile tra i due processi."
   ]
  },
  {
   "cell_type": "markdown",
   "metadata": {},
   "source": [
    "Per utilizzare le socket TCP in python, è necessario importare la libreria socket. Le primitive più importanti della libreria socket per la gestione delle socket TCP sono:"
   ]
  },
  {
   "cell_type": "markdown",
   "metadata": {},
   "source": [
    "_socket()_: crea una nuova socket e restituisce il descrittore della socket appena creata. La funzione richiede due parametri di input: il tipo di indirizzo della socket (AF_INET per gli indirizzi IPv4) e il tipo do socket (SOCK_STREAM per le socket TCP)"
   ]
  },
  {
   "cell_type": "markdown",
   "metadata": {},
   "source": [
    "_bind()_: assegna un indirizzo IP e una porta alla socket. La funzione richiede un parametro di input, una tupla contenente l'indirizzo IP (in formato stringa) e la porta (in formato numerico) a cui associare la socket"
   ]
  },
  {
   "cell_type": "markdown",
   "metadata": {},
   "source": [
    "_listen()_: mette la socket in ascolto per eventuali connessioni in ingresso. La funzione richiede un parametrodi input, il numero massimo di connessioni in coda che la socket è in grado di gestire contemporaneamente"
   ]
  },
  {
   "cell_type": "markdown",
   "metadata": {},
   "source": [
    "_accept()_: accetta una nuova connessione in ingresso. La funzione restituisce una nuova socket dedicata alla connessione accettata e l'indirizzo IP e la porta del client che ha stabilito la connessione. La funzione blocca il processo fino a quando non viene stabilita una nuova connessione"
   ]
  },
  {
   "cell_type": "markdown",
   "metadata": {},
   "source": [
    "_connect()_: avvia la connessione verso un server remoto specificato dall'indirizzo IP e dalla porta. La funzione richiede un parametro di input, una tupla contenente l'indirizzo IP (in formato stringa) e la porta (in formato numerico) del server."
   ]
  },
  {
   "cell_type": "markdown",
   "metadata": {},
   "source": [
    "_send()_: invia dati sulla socket. la funzione richiede un parametro di input, una stringa contenente i dati da inviare, e restituisce il numero di byte effettivamente inviati. Per inviare tutti i dati può essere necessario invocare la send() più volte."
   ]
  },
  {
   "cell_type": "markdown",
   "metadata": {},
   "source": [
    "_sendall()_: invia tutti i dati sulla socket in una sola volta, e blocca il processo finchè tutti i dati non stati inviati. In generale, è consigliabile utilizzare la sendall() invece di send() per garantire l'invio completo dei dati. Tuttavia, in alcuni casi specifici, come ad esempio l'invio di dati di grandi dimensioni, potrebbe essere necessario utilizzare la primitiva send() per inviare i dati in blocchi più piccoli"
   ]
  },
  {
   "cell_type": "markdown",
   "metadata": {},
   "source": [
    "_recv()_: riceve dati sulla socket. La funzione restituisce una stringa contenente  i dati ricevuti. La funzione blocca il processo fino a quando non arrivano nuovi dati sulla socket"
   ]
  },
  {
   "cell_type": "markdown",
   "metadata": {},
   "source": [
    "_recvfrom()_: restituisce anche l'indirizzo IP e la porta del mittente dei dati ricevuti"
   ]
  },
  {
   "cell_type": "markdown",
   "metadata": {},
   "source": [
    "_close()_: chiude la socket"
   ]
  },
  {
   "cell_type": "markdown",
   "metadata": {},
   "source": [
    "IL COSTRUTTO WITH"
   ]
  },
  {
   "cell_type": "markdown",
   "metadata": {},
   "source": [
    "E' utilizzato per gestire il contesto di un oggetto. In partiolare, è utile quando si lavora con oggetti che necessitano di essere aperti e chiusi correttamente, come ad esempio  file, socket, connessioni a database e così via"
   ]
  },
  {
   "cell_type": "markdown",
   "metadata": {},
   "source": [
    "Il costrutto with ha la seguente sintassi:\n",
    "    with <oggetto> ad <nome_variabile>:\n",
    "        <blocco_di_codice>\n",
    "    Uscendo dal with l'oggetto viene chiuso automaticamente"
   ]
  },
  {
   "cell_type": "code",
   "execution_count": null,
   "metadata": {},
   "outputs": [],
   "source": [
    "input_string ='Hello'\n",
    "print(type(input_string))\n",
    "input_bytes_encoded = input_string.encode()\n",
    "print(type(input_bytes_encoded))\n",
    "print(input_bytes_encoded)\n",
    "output_string=input_bytes_encoded.decode()\n",
    "print(type(output_string))\n",
    "print(output_string)"
   ]
  },
  {
   "cell_type": "code",
   "execution_count": null,
   "metadata": {},
   "outputs": [],
   "source": [
    "import socket\n",
    "\n",
    "HOST= '127.0.0.1'\n",
    "PORT= 65432\n",
    "\n",
    "with socket.socket(socket.AF_INET, socket.SOCK_STREAM) as sock_service:\n",
    "    sock_service.connect((HOST, PORT))\n",
    "    sock_service.sendall(b'Hello, world')\n",
    "    data = sock_service.recv(1024)\n",
    "\n",
    "print('received', data.decode())"
   ]
  }
 ],
 "metadata": {
  "language_info": {
   "name": "python"
  },
  "orig_nbformat": 4
 },
 "nbformat": 4,
 "nbformat_minor": 2
}
